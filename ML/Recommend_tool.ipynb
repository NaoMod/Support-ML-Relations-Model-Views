{
 "cells": [
  {
   "attachments": {},
   "cell_type": "markdown",
   "metadata": {},
   "source": [
    "### Import packages\n",
    "\n",
    "Note that some packages are local python scripts created to enable the proper use of the Notebook"
   ]
  },
  {
   "cell_type": "code",
   "execution_count": 1,
   "metadata": {},
   "outputs": [
    {
     "name": "stderr",
     "output_type": "stream",
     "text": [
      "c:\\Users\\James\\Projects\\Papers\\ER2023\\envML\\Lib\\site-packages\\tqdm\\auto.py:21: TqdmWarning: IProgress not found. Please update jupyter and ipywidgets. See https://ipywidgets.readthedocs.io/en/stable/user_install.html\n",
      "  from .autonotebook import tqdm as notebook_tqdm\n"
     ]
    }
   ],
   "source": [
    "import numpy as np\n",
    "import torch\n",
    "\n",
    "from torch_geometric.loader import LinkNeighborLoader\n",
    "\n",
    "import matplotlib.pyplot as plt\n"
   ]
  },
  {
   "attachments": {},
   "cell_type": "markdown",
   "metadata": {},
   "source": [
    "### Basic configurations\n",
    "\n",
    "Define the main options for the Training and execution"
   ]
  },
  {
   "cell_type": "code",
   "execution_count": 2,
   "metadata": {},
   "outputs": [],
   "source": [
    "# Define dataset used\n",
    "DATASET_LABEL = \"AB\""
   ]
  },
  {
   "cell_type": "code",
   "execution_count": 3,
   "metadata": {},
   "outputs": [],
   "source": [
    "import glob\n",
    "from os import path as osp\n",
    "import json\n",
    "\n",
    "# important directories\n",
    "data_path = osp.join('../Data/', DATASET_LABEL)\n",
    "\n",
    "# Read JSON to get extra parameters in the graph\n",
    "json_path = osp.join('../Views/Recommended_View/src-gen/', \"recommended.json\")\n",
    "json_training_path = osp.join('../Views/Recommended_View/', \"training.json\")\n",
    "\n",
    "parameters_exist = len(json_path) != 0\n",
    "training_exist = len(json_training_path) != 0\n",
    "\n",
    "parameters_for_embeddings = None\n",
    "if parameters_exist:\n",
    "    parameters_for_embeddings = json_path\n",
    "\n",
    "EMBEDDINGS_LEFT = None\n",
    "EMBEDDINGS_RIGHT = None\n",
    "with open(parameters_for_embeddings) as json_data:\n",
    "    parameters = json.load(json_data)\n",
    "\n",
    "    for relation_name, relation_props in parameters.items():\n",
    "        class_left = relation_props['CLASS_LEFT']\n",
    "        class_right = relation_props['CLASS_RIGHT']\n",
    "        rev_relation_name = \"rev_\" + relation_name\n",
    "\n",
    "        UNIQUE_ID_LEFT = \"ID\"\n",
    "        UNIQUE_ID_RIGHT = \"ID\""
   ]
  },
  {
   "cell_type": "code",
   "execution_count": 4,
   "metadata": {},
   "outputs": [],
   "source": [
    "parameters_for_gnn = None\n",
    "if training_exist:\n",
    "    parameters_for_gnn = json_training_path\n",
    "\n",
    "with open(parameters_for_gnn) as json_training_data:\n",
    "    training_parameters = json.load(json_training_data)\n",
    "\n",
    "    EPOCHS = training_parameters[relation_name][\"TRAINING_PARAMETERS\"][\"EPOCHS\"]\n",
    "    LEARNING_RATE = training_parameters[relation_name][\"TRAINING_PARAMETERS\"][\"LEARNING_RATE\"]\n",
    "    ADD_NEGATIVE_TRAINING = training_parameters[relation_name][\"TRAINING_PARAMETERS\"][\"ADD_NEGATIVE_TRAINING\"]\n",
    "    NEG_SAMPLING_RATIO = training_parameters[relation_name][\"TRAINING_PARAMETERS\"][\"NEG_SAMPLING_RATIO\"]\n",
    "\n",
    "    GNN_OPERATOR = training_parameters[relation_name][\"ARCHITECTURE\"][\"OPERATOR\"]\n",
    "    CONVOLUTIONS = training_parameters[relation_name][\"ARCHITECTURE\"][\"CONVOLUTIONS\"]\n",
    "    ACTIVATION = training_parameters[relation_name][\"ARCHITECTURE\"][\"ACTIVATION\"]\n",
    "    HIDDEN_CHANNELS = training_parameters[relation_name][\"ARCHITECTURE\"][\"HIDDEN_CHANNELS\"]\n",
    "    CLASSIFIER = training_parameters[relation_name][\"ARCHITECTURE\"][\"CLASSIFIER\"]\n",
    "    "
   ]
  },
  {
   "attachments": {},
   "cell_type": "markdown",
   "metadata": {},
   "source": [
    "### Print functions for the performance curves\n",
    "\n",
    "Functions to print both ROC (Receiver Operating Characteristic) curve and PR (Precision-Recall) curve"
   ]
  },
  {
   "cell_type": "code",
   "execution_count": 5,
   "metadata": {},
   "outputs": [],
   "source": [
    "def print_pr_curve(precision, recall, title, pr_auc, no_skill):\n",
    "    #create precision recall curve\n",
    "    _, ax = plt.subplots()\n",
    "    ax.plot(recall, precision, color='purple', label='AUC = %0.4f' % pr_auc)\n",
    "    ax.plot([0, 1], [no_skill, no_skill], linestyle='--', label='No Skill')\n",
    "\n",
    "    #add axis labels to plot\n",
    "    ax.set_title(title)\n",
    "    ax.set_ylabel('Precision')\n",
    "    ax.set_xlabel('Recall')\n",
    "\n",
    "    plt.legend(loc='best')\n",
    "    #display plot\n",
    "    plt.show\n",
    "\n",
    "def print_roc_curve(fpr, tpr, title, roc_auc):\n",
    "    #create ROC curve\n",
    "    _, ax = plt.subplots()\n",
    "    ax.plot(fpr, tpr, color='purple', label='AUC = %0.4f' % roc_auc)\n",
    "    ax.plot([0, 1], [0, 1], linestyle='--', label='No Skill')\n",
    "\n",
    "    #add axis labels to plot\n",
    "    ax.set_title(title)\n",
    "    ax.set_ylabel('True Positive Rate(TPR)')\n",
    "    ax.set_xlabel('False Positive Rate(FPR)')\n",
    "\n",
    "    plt.legend(loc='best')\n",
    "    #display plot\n",
    "    plt.show()"
   ]
  },
  {
   "attachments": {},
   "cell_type": "markdown",
   "metadata": {},
   "source": [
    "### Configuration of EMF models"
   ]
  },
  {
   "cell_type": "code",
   "execution_count": 6,
   "metadata": {},
   "outputs": [],
   "source": [
    "from pyecore.resources import ResourceSet, URI\n",
    "\n",
    "# Custom functions get Heterodata from EMF model\n",
    "from utils.to_graph import Func\n",
    "\n",
    "# Register the metamodels in the resource set    \n",
    "resource_set = ResourceSet()\n",
    "modeling_resources_path = osp.join('../Modeling_Resources/')\n",
    "\n",
    "ecore_path_a = osp.join(modeling_resources_path, 'metamodels/A.ecore')\n",
    "ecore_path_b =osp.join(modeling_resources_path, 'metamodels/B.ecore')\n",
    "\n",
    "resource_a = resource_set.get_resource(URI(ecore_path_a))\n",
    "mm_root_a = resource_a.contents[0]\n",
    "resource_b = resource_set.get_resource(URI(ecore_path_b))\n",
    "mm_root_b = resource_b.contents[0]\n",
    "\n",
    "resource_set.metamodel_registry[mm_root_a.nsURI] = mm_root_a\n",
    "resource_set.metamodel_registry[mm_root_b.nsURI] = mm_root_b\n",
    "\n",
    "#if EMBEDDINGS_LEFT is not None:\n",
    "features_for_embedding_left = ['a', 's']\n",
    "#else:\n",
    "#    features_for_embedding_left = None\n",
    "#if EMBEDDINGS_RIGHT is not None:\n",
    "features_for_embedding_right = ['b', 'c', 'd', 's']\n",
    "#else:\n",
    "#    features_for_embedding_right = None\n",
    "\n",
    "STRINGS_ENCODER=\"all-MiniLM-L6-v2\"\n",
    "\n",
    "dataset_func = Func(sentence_encoding_name=STRINGS_ENCODER, features_for_embedding_left=features_for_embedding_left, features_for_embedding_right=features_for_embedding_right, unique_id_left=UNIQUE_ID_LEFT, unique_id_right=UNIQUE_ID_RIGHT)"
   ]
  },
  {
   "attachments": {},
   "cell_type": "markdown",
   "metadata": {},
   "source": [
    "### Create the Hetero data\n",
    "\n",
    "The following code reads the two .xmi serialized models and create a HeteroData for use in PyG functions. The .csv file with the example relations is used to create the edge_index. "
   ]
  },
  {
   "cell_type": "code",
   "execution_count": 7,
   "metadata": {},
   "outputs": [
    {
     "name": "stdout",
     "output_type": "stream",
     "text": [
      "HeteroData(\n",
      "  \u001b[1mA\u001b[0m={\n",
      "    x=[610, 1],\n",
      "    num_nodes=610,\n",
      "    node_id=[610]\n",
      "  },\n",
      "  \u001b[1mB\u001b[0m={\n",
      "    x=[7378, 1],\n",
      "    num_nodes=7378,\n",
      "    node_id=[7378]\n",
      "  },\n",
      "  \u001b[1m(A, relates_with, B)\u001b[0m={ edge_index=[2, 3740] }\n",
      ")\n"
     ]
    }
   ],
   "source": [
    "# Register the models in the resource set\n",
    "xmi_path_left = glob.glob(osp.join(data_path, \"DatasetLeft.xmi\"))[0]\n",
    "m_resource_left = resource_set.get_resource(URI(xmi_path_left))\n",
    "model_root_left = m_resource_left.contents\n",
    "\n",
    "xmi_path_right = glob.glob(osp.join(data_path, \"DatasetRight.xmi\"))[0]\n",
    "m_resource_right = resource_set.get_resource(URI(xmi_path_right))\n",
    "model_root_right = m_resource_right.contents\n",
    "\n",
    "relations_path = glob.glob(osp.join(data_path, \"Relations.csv\"))\n",
    "relations_exist = len(relations_path) != 0\n",
    "relations_for_graph = None\n",
    "if relations_exist:\n",
    "    relations_for_graph = relations_path[0]  \n",
    "\n",
    "data, left_original_mapping, right_original_mapping = dataset_func.xmi_to_graph(model_root_left, model_root_right, relations_for_graph, class_left, class_right, relation_name)\n",
    "\n",
    "print(data)"
   ]
  },
  {
   "attachments": {},
   "cell_type": "markdown",
   "metadata": {},
   "source": [
    "### Change device"
   ]
  },
  {
   "cell_type": "code",
   "execution_count": 8,
   "metadata": {},
   "outputs": [],
   "source": [
    "device = torch.device('cuda' if torch.cuda.is_available() else 'cpu')\n",
    "data = data.to(device)"
   ]
  },
  {
   "attachments": {},
   "cell_type": "markdown",
   "metadata": {},
   "source": [
    "### Add reverse relation"
   ]
  },
  {
   "cell_type": "code",
   "execution_count": 9,
   "metadata": {},
   "outputs": [],
   "source": [
    "import torch_geometric.transforms as T\n",
    "\n",
    " # Add a reverse (class_right, rev_relation_name, class_left) relation for message passing:\n",
    "data = T.ToUndirected()(data)\n",
    "del data[class_right, rev_relation_name, class_left].edge_label  # Remove \"reverse\" label."
   ]
  },
  {
   "attachments": {},
   "cell_type": "markdown",
   "metadata": {},
   "source": [
    "### Split the data"
   ]
  },
  {
   "cell_type": "code",
   "execution_count": 10,
   "metadata": {},
   "outputs": [
    {
     "name": "stdout",
     "output_type": "stream",
     "text": [
      "HeteroData(\n",
      "  \u001b[1mA\u001b[0m={\n",
      "    x=[610, 1],\n",
      "    num_nodes=610,\n",
      "    node_id=[610]\n",
      "  },\n",
      "  \u001b[1mB\u001b[0m={\n",
      "    x=[7378, 1],\n",
      "    num_nodes=7378,\n",
      "    node_id=[7378]\n",
      "  },\n",
      "  \u001b[1m(A, relates_with, B)\u001b[0m={\n",
      "    edge_index=[2, 1796],\n",
      "    edge_label=[1196],\n",
      "    edge_label_index=[2, 1196]\n",
      "  },\n",
      "  \u001b[1m(B, rev_relates_with, A)\u001b[0m={ edge_index=[2, 1796] }\n",
      ")\n",
      "tensor([[ 581,  150,  142,  ...,    2,  527,  290],\n",
      "        [5392,  135, 6540,  ..., 2217,  327, 1742]])\n",
      "tensor([1., 1., 1.,  ..., 1., 1., 1.])\n"
     ]
    }
   ],
   "source": [
    "# Perform a link-level split into training, validation, and test edges:\n",
    "train_data, val_data, test_data = T.RandomLinkSplit(\n",
    "    num_val=0.1, # 10% of links for validation\n",
    "    num_test=0.1, # 10% os links for test\n",
    "    disjoint_train_ratio=0.4, # use 60% for message passing and 40% for supervision\n",
    "    neg_sampling_ratio=2.0, # generate 2:1 negative edges\n",
    "    add_negative_train_samples=ADD_NEGATIVE_TRAINING,\n",
    "    edge_types=(class_left, relation_name, class_right),\n",
    "    rev_edge_types=(class_right, rev_relation_name, class_left)\n",
    ")(data)\n",
    "\n",
    "train_edge_label_index = train_data[class_left, relation_name, class_right].edge_label_index\n",
    "train_edge_label = train_data[class_left, relation_name, class_right].edge_label\n",
    "\n",
    "print(train_data)\n",
    "print(train_edge_label_index)\n",
    "print(train_edge_label)"
   ]
  },
  {
   "attachments": {},
   "cell_type": "markdown",
   "metadata": {},
   "source": [
    "### Train loader"
   ]
  },
  {
   "cell_type": "code",
   "execution_count": 11,
   "metadata": {},
   "outputs": [
    {
     "name": "stdout",
     "output_type": "stream",
     "text": [
      "Sampled mini-batch:\n",
      "===================\n",
      "HeteroData(\n",
      "  \u001b[1mA\u001b[0m={\n",
      "    x=[321, 1],\n",
      "    num_nodes=321,\n",
      "    node_id=[321],\n",
      "    n_id=[321]\n",
      "  },\n",
      "  \u001b[1mB\u001b[0m={\n",
      "    x=[1305, 1],\n",
      "    num_nodes=1305,\n",
      "    node_id=[1305],\n",
      "    n_id=[1305]\n",
      "  },\n",
      "  \u001b[1m(A, relates_with, B)\u001b[0m={\n",
      "    edge_index=[2, 885],\n",
      "    edge_label=[384],\n",
      "    edge_label_index=[2, 384],\n",
      "    e_id=[885],\n",
      "    input_id=[128]\n",
      "  },\n",
      "  \u001b[1m(B, rev_relates_with, A)\u001b[0m={\n",
      "    edge_index=[2, 997],\n",
      "    e_id=[997]\n",
      "  }\n",
      ")\n"
     ]
    }
   ],
   "source": [
    "# LOADERS\n",
    "train_loader = LinkNeighborLoader(\n",
    "    data=train_data,\n",
    "    num_neighbors=[20, 10],\n",
    "    neg_sampling_ratio=2.0,\n",
    "    edge_label_index=((class_left, relation_name, class_right), train_edge_label_index),\n",
    "    edge_label=train_edge_label,\n",
    "    batch_size=128,\n",
    "    shuffle=True,\n",
    ")\n",
    "\n",
    "sampled_data = next(iter(train_loader))\n",
    "\n",
    "print(\"Sampled mini-batch:\")\n",
    "print(\"===================\")\n",
    "print(sampled_data)"
   ]
  },
  {
   "attachments": {},
   "cell_type": "markdown",
   "metadata": {},
   "source": [
    "### GNN architecture\n",
    "\n",
    "The GNN architecture is defined by the parameters sent by the user in the extra JSON file, so we have extra functions to configure each part of the GNN"
   ]
  },
  {
   "attachments": {},
   "cell_type": "markdown",
   "metadata": {},
   "source": [
    "#### Extra functions for GNN creation"
   ]
  },
  {
   "cell_type": "code",
   "execution_count": 12,
   "metadata": {},
   "outputs": [],
   "source": [
    "from torch_geometric.nn import SAGEConv\n",
    "import torch.nn.functional as F\n",
    "\n",
    "def get_operator():\n",
    "    if GNN_OPERATOR == \"SAGEConv\":\n",
    "        return SAGEConv\n",
    "    \n",
    "def get_activation():\n",
    "    if ACTIVATION == \"relu\":\n",
    "        return F.relu\n",
    "    \n",
    "class DotProduct(torch.nn.Module):\n",
    "    \"\"\"\n",
    "    The final classifier applies the dot-product between source and destination node embeddings to derive edge-level predictions\n",
    "    \"\"\"\n",
    "\n",
    "    def forward(self, x_left: torch.Tensor, x_right: torch.Tensor, edge_label_index: torch.Tensor) -> torch.Tensor:\n",
    "        \"\"\"\n",
    "        This method is responsible for executing the forward pass of the classifier.\n",
    "        \n",
    "        Parameters\n",
    "        ----------\n",
    "        x_left: torch.Tensor\n",
    "            input tensor for Left class\n",
    "        x_right: torch.Tensor\n",
    "            input tensor for Right class\n",
    "        edge_label_index: torch.Tensor\n",
    "            edge label index\n",
    "\n",
    "        Returns\n",
    "        -------\n",
    "        x: torch.Tensor\n",
    "            output tensor\n",
    "        \"\"\"\n",
    "\n",
    "        # Convert node embeddings to edge-level representations:\n",
    "        edge_feat_left  = x_left[edge_label_index[0]]\n",
    "        edge_feat_right = x_right[edge_label_index[1]]\n",
    "\n",
    "        # Apply dot-product to get a prediction per supervision edge:\n",
    "        return (edge_feat_left * edge_feat_right).sum(dim=-1)"
   ]
  },
  {
   "cell_type": "code",
   "execution_count": 13,
   "metadata": {},
   "outputs": [
    {
     "name": "stdout",
     "output_type": "stream",
     "text": [
      "Model(\n",
      "  (left_lin): Linear(in_features=1, out_features=64, bias=True)\n",
      "  (right_lin): Linear(in_features=1, out_features=64, bias=True)\n",
      "  (gnn): GraphModule(\n",
      "    (conv1): ModuleDict(\n",
      "      (A__relates_with__B): SAGEConv(64, 64, aggr=mean)\n",
      "      (B__rev_relates_with__A): SAGEConv(64, 64, aggr=mean)\n",
      "    )\n",
      "    (conv2): ModuleDict(\n",
      "      (A__relates_with__B): SAGEConv(64, 64, aggr=mean)\n",
      "      (B__rev_relates_with__A): SAGEConv(64, 64, aggr=mean)\n",
      "    )\n",
      "  )\n",
      "  (classifier): DotProduct()\n",
      ")\n"
     ]
    }
   ],
   "source": [
    "from torch_geometric.nn import to_hetero\n",
    "\n",
    "class GNN(torch.nn.Module):\n",
    "    \"\"\"\n",
    "    This class is responsible for creating the ML model\n",
    "    \"\"\"\n",
    "\n",
    "    def __init__(self, hidden_channels):\n",
    "        super().__init__()\n",
    "        self.convolutions = []\n",
    "        operator = get_operator()\n",
    "        self.conv1 = operator(hidden_channels, hidden_channels)\n",
    "        self.conv2 = operator(hidden_channels, hidden_channels)\n",
    "\n",
    "    def forward(self, x: torch.Tensor, edge_index: torch.Tensor) -> torch.Tensor:\n",
    "        \"\"\"\n",
    "        This method is responsible for executing the forward pass of the convolutional GNN.\n",
    "\n",
    "        Parameters\n",
    "        ----------\n",
    "        x: torch.Tensor\n",
    "            input tensor\n",
    "        edge_index: torch.Tensor\n",
    "            edge index\n",
    "\n",
    "        Returns\n",
    "        -------\n",
    "        x: torch.Tensor\n",
    "            output tensor\n",
    "        \"\"\"\n",
    "        # The GNN computation graph.\n",
    "        # `ReLU` is the standard non-lineary function used in-between, but it can be changed by users' option in the function get_activation\n",
    "        activation = get_activation()\n",
    "       \n",
    "        x = activation(self.conv1(x, edge_index))\n",
    "        x = self.conv2(x, edge_index)\n",
    "        return x\n",
    "\n",
    "class Model(torch.nn.Module):\n",
    "    \"\"\"\n",
    "    This class is responsible for creating the model with two SageConv layers with a addiotinal classifier to be used in the training.\n",
    "    \"\"\"\n",
    "\n",
    "    def __init__(self, hidden_channels, data):\n",
    "        super().__init__()\n",
    "        # Since the dataset does not come with rich features, we also learn two\n",
    "        # embedding matrices for A and B:\n",
    "        self.left_lin = torch.nn.Linear(data[class_left].num_features, hidden_channels)\n",
    "        self.right_lin = torch.nn.Linear(data[class_right].num_features, hidden_channels)\n",
    "        # self.left_emb = torch.nn.Embedding(data[class_left].num_nodes, hidden_channels)\n",
    "        # self.right_emb = torch.nn.Embedding(data[class_right].num_nodes, hidden_channels)\n",
    "\n",
    "        # Instantiate homogeneous GNN:\n",
    "        self.gnn = GNN(hidden_channels)\n",
    "        # Convert GNN model into a heterogeneous variant:\n",
    "        self.gnn = to_hetero(self.gnn, metadata=data.metadata())\n",
    "        if CLASSIFIER == \"dot_product\":\n",
    "            self.classifier = DotProduct()\n",
    "\n",
    "    def forward(self, data) -> torch.Tensor:\n",
    "        \"\"\"\t\n",
    "        This method is responsible for executing the forward pass of the model.\n",
    "\n",
    "        Parameters\n",
    "        ----------\n",
    "        data: HeteroData\n",
    "            input data\n",
    "\n",
    "        Returns\n",
    "        -------\n",
    "        pred: torch.Tensor\n",
    "            output tensor\n",
    "        \"\"\"\n",
    "        \n",
    "        x_dict = {\n",
    "        #   class_left: self.A_lin(data[class_left].x) + self.left_emb(data[class_left].node_id),\n",
    "          class_left: self.left_lin(data[class_left].x) ,#+ self.left_emb(data[class_left].node_id),\n",
    "          class_right: self.right_lin(data[class_right].x) ,#+ self.right_emb(data[class_right].node_id),\n",
    "        } \n",
    "        # `x_dict` holds feature matrices of all node types\n",
    "        # `edge_index_dict` holds all edge indices of all edge types\n",
    "        x_dict = self.gnn(x_dict, data.edge_index_dict)\n",
    "        pred = self.classifier(\n",
    "            x_dict[class_left],\n",
    "            x_dict[class_right],\n",
    "            data[class_left, relation_name, class_right].edge_label_index,\n",
    "        )\n",
    "        return pred\n",
    "    \n",
    "model = Model(hidden_channels=HIDDEN_CHANNELS, data=data)\n",
    "\n",
    "print(model)"
   ]
  },
  {
   "attachments": {},
   "cell_type": "markdown",
   "metadata": {},
   "source": [
    "### Training a Heterogeneous Link-level GNN\n",
    "\n",
    "Training the GNN is similar to training any PyTorch model.\n",
    "We move the model to the desired device, and initialize an optimizer that takes care of adjusting model parameters via stochastic gradient descent.\n",
    "\n",
    "The training loop then iterates over the training mini-batches, applies the forward computation of the model, computes the loss from ground-truth labels and obtained predictions using binary cross entropy, and adjusts model parameters via back-propagation."
   ]
  },
  {
   "cell_type": "code",
   "execution_count": 14,
   "metadata": {},
   "outputs": [
    {
     "name": "stdout",
     "output_type": "stream",
     "text": [
      "Epoch: 050, Loss: 16.1791\n",
      "Epoch: 100, Loss: 4.7949\n",
      "Epoch: 150, Loss: 6.8161\n"
     ]
    }
   ],
   "source": [
    "import torch.nn.functional as F\n",
    "\n",
    "model = model.to(device)\n",
    "optimizer = torch.optim.Adam(model.parameters(), lr=float(LEARNING_RATE))\n",
    "\n",
    "for epoch in range(1, int(EPOCHS)):\n",
    "    total_loss = total_examples = 0\n",
    "    for _, sampled_data in enumerate(train_loader):\n",
    "        optimizer.zero_grad()\n",
    "\n",
    "        sampled_data.to(device)\n",
    "        pred = model(sampled_data)\n",
    "\n",
    "        ground_truth = sampled_data[class_left, relation_name, class_right].edge_label\n",
    "        loss = F.binary_cross_entropy_with_logits(pred, ground_truth)\n",
    "\n",
    "        loss.backward()\n",
    "        optimizer.step()\n",
    "        total_loss += float(loss) * pred.numel()\n",
    "        total_examples += pred.numel()\n",
    "    if epoch % 50 == 0:\n",
    "        print(f\"Epoch: {epoch:03d}, Loss: {total_loss / total_examples:.4f}\")"
   ]
  },
  {
   "attachments": {},
   "cell_type": "markdown",
   "metadata": {},
   "source": [
    "### Evaluating a Heterogeneous Link-level GNN\n",
    "\n",
    "After training, we evaluate our model on useen data coming from the validation set."
   ]
  },
  {
   "cell_type": "code",
   "execution_count": 15,
   "metadata": {},
   "outputs": [
    {
     "name": "stdout",
     "output_type": "stream",
     "text": [
      "Sampled mini-batch:\n",
      "===================\n",
      "HeteroData(\n",
      "  \u001b[1mA\u001b[0m={\n",
      "    x=[286, 1],\n",
      "    num_nodes=286,\n",
      "    node_id=[286],\n",
      "    n_id=[286]\n",
      "  },\n",
      "  \u001b[1mB\u001b[0m={\n",
      "    x=[1786, 1],\n",
      "    num_nodes=1786,\n",
      "    node_id=[1786],\n",
      "    n_id=[1786]\n",
      "  },\n",
      "  \u001b[1m(A, relates_with, B)\u001b[0m={\n",
      "    edge_index=[2, 1394],\n",
      "    edge_label=[384],\n",
      "    edge_label_index=[2, 384],\n",
      "    e_id=[1394],\n",
      "    input_id=[384]\n",
      "  },\n",
      "  \u001b[1m(B, rev_relates_with, A)\u001b[0m={\n",
      "    edge_index=[2, 1407],\n",
      "    e_id=[1407]\n",
      "  }\n",
      ")\n"
     ]
    }
   ],
   "source": [
    "# Define the validation seed edges:\n",
    "edge_label_index = val_data[class_left, relation_name, class_right].edge_label_index\n",
    "edge_label = val_data[class_left, relation_name, class_right].edge_label\n",
    "\n",
    "val_loader = LinkNeighborLoader(\n",
    "    data=val_data,\n",
    "    num_neighbors=[20, 10],\n",
    "    edge_label_index=(\n",
    "        (class_left, relation_name, class_right), \n",
    "        val_data[(class_left, relation_name, class_right)].edge_label_index,\n",
    "    ),\n",
    "    edge_label=val_data[(class_left, relation_name, class_right)].edge_label,\n",
    "    batch_size=3 * 128,\n",
    "    shuffle=False,\n",
    ")\n",
    "\n",
    "sampled_data = next(iter(val_loader))\n",
    "\n",
    "print(\"Sampled mini-batch:\")\n",
    "print(\"===================\")\n",
    "print(sampled_data)\n",
    "\n",
    "\n",
    "assert sampled_data[class_left, relation_name, class_right].edge_label_index.size(1) == 3 * 128\n",
    "#assert sampled_data[class_left, relation_name, class_right].edge_label.min() == 0\n",
    "#assert sampled_data[class_left, relation_name, class_right].edge_label.max() == 1"
   ]
  },
  {
   "attachments": {},
   "cell_type": "markdown",
   "metadata": {},
   "source": [
    "### Metrics and plots to evaluate the performance of GNN"
   ]
  },
  {
   "cell_type": "code",
   "execution_count": 16,
   "metadata": {},
   "outputs": [
    {
     "name": "stderr",
     "output_type": "stream",
     "text": [
      "100%|██████████| 3/3 [00:00<00:00, 161.92it/s]\n"
     ]
    },
    {
     "name": "stdout",
     "output_type": "stream",
     "text": [
      "Sample of y_true and y_score\n",
      "[1. 1. 1. 1. 1. 1. 1. 1. 1. 1.]\n",
      "[-25.153198  -26.221191  -16.380585    1.7760468  -1.2451706 -19.234863\n",
      " -17.483887   -2.9496002  -1.119091   -1.9533386]\n",
      "Validation ROC_AUC: 0.7046\n"
     ]
    },
    {
     "data": {
      "image/png": "[encoded data removed]",
      "text/plain": [
       "<Figure size 640x480 with 1 Axes>"
      ]
     },
     "metadata": {},
     "output_type": "display_data"
    }
   ],
   "source": [
    "import tqdm\n",
    "from sklearn.metrics import roc_auc_score\n",
    "from sklearn.metrics import roc_curve\n",
    "from sklearn.metrics import precision_recall_curve\n",
    "from sklearn.metrics import auc as area_curve\n",
    "\n",
    "preds = []\n",
    "ground_truths = []\n",
    "for sampled_data in tqdm.tqdm(val_loader):\n",
    "    with torch.no_grad():\n",
    "        sampled_data.to(device)\n",
    "        preds.append(model(sampled_data))\n",
    "        ground_truths.append(sampled_data[class_left, relation_name, class_right].edge_label)\n",
    "\n",
    "pred = torch.cat(preds, dim=0).cpu().numpy()\n",
    "ground_truth = torch.cat(ground_truths, dim=0).cpu().numpy()\n",
    "\n",
    "print(\"Sample of y_true and y_score\")\n",
    "print(ground_truth[:10])\n",
    "print(pred[:10])\n",
    "\n",
    "# Metric 1 - ROC\n",
    "auc = roc_auc_score(ground_truth, pred)\n",
    "print(f\"Validation ROC_AUC: {auc:.4f}\")\n",
    "\n",
    "fpr, tpr, roc_tr = roc_curve(ground_truth, torch.sigmoid(torch.from_numpy(pred)))\n",
    "print_roc_curve(fpr, tpr, \"Dataset\" + \"_Validation\", auc)\n",
    "\n",
    "# Metric 2 - Precision Recall\n",
    "no_skill = len(ground_truth[ground_truth==1]) / len(ground_truth)\n",
    "precision, recall, _ = precision_recall_curve(ground_truth, (torch.sigmoid(torch.from_numpy(pred))))\n",
    "pr_auc = area_curve (recall, precision)\n",
    "#print_pr_curve(precision, recall, \"Dataset\" + \"_Validation\", pr_auc, no_skill)\n"
   ]
  },
  {
   "attachments": {},
   "cell_type": "markdown",
   "metadata": {},
   "source": [
    "### Select the thresholds to be used in inferences"
   ]
  },
  {
   "cell_type": "code",
   "execution_count": 17,
   "metadata": {},
   "outputs": [
    {
     "name": "stdout",
     "output_type": "stream",
     "text": [
      "Area under the ROC curve : 0.704588\n"
     ]
    },
    {
     "data": {
      "image/png": "[encoded data removed]",
      "text/plain": [
       "<Figure size 640x480 with 1 Axes>"
      ]
     },
     "metadata": {},
     "output_type": "display_data"
    },
    {
     "name": "stdout",
     "output_type": "stream",
     "text": [
      "0    1.901647\n",
      "Name: thresholds, dtype: float32\n"
     ]
    }
   ],
   "source": [
    "import pandas as pd\n",
    "\n",
    "\n",
    "roc_auc = area_curve(fpr, tpr)\n",
    "print(\"Area under the ROC curve : %f\" % roc_auc)\n",
    "\n",
    "####################################\n",
    "# The optimal cut off would be where tpr is high and fpr is low\n",
    "# tpr - (1-fpr) is zero or near to zero is the optimal cut off point\n",
    "####################################\n",
    "i = np.arange(len(tpr)) # index for df\n",
    "roc = pd.DataFrame({\n",
    "    'fpr' : pd.Series(fpr, index=i),\n",
    "    'tpr' : pd.Series(tpr, index = i), \n",
    "    '1-fpr' : pd.Series(1-fpr, index = i), \n",
    "    'tf' : pd.Series(tpr - fpr, index = i), \n",
    "    'thresholds' : pd.Series(roc_tr, index = i)})\n",
    "\n",
    "# Plot tpr vs 1-fpr\n",
    "fig, ax = plt.subplots()\n",
    "plt.plot(roc['tpr'])\n",
    "plt.plot(roc['1-fpr'], color = 'red')\n",
    "plt.xlabel('1-False Positive Rate')\n",
    "plt.ylabel('True Positive Rate')\n",
    "plt.title('Receiver operating characteristic')\n",
    "ax.set_xticklabels([])\n",
    "plt.show()\n",
    "\n",
    "print(roc.iloc[(roc.tf-0).abs().argsort()[:1]]['thresholds'])"
   ]
  },
  {
   "attachments": {},
   "cell_type": "markdown",
   "metadata": {},
   "source": [
    "### Another approach to select threshold - for comparison"
   ]
  },
  {
   "cell_type": "code",
   "execution_count": 18,
   "metadata": {},
   "outputs": [
    {
     "name": "stdout",
     "output_type": "stream",
     "text": [
      "[-11.774993896484375]\n"
     ]
    }
   ],
   "source": [
    "def Find_Optimal_Cutoff(target, predicted):\n",
    "    fpr, tpr, threshold = roc_curve(target, predicted)\n",
    "    i = np.arange(len(tpr)) \n",
    "    roc = pd.DataFrame({'tf' : pd.Series(tpr-(1-fpr), index=i), 'threshold' : pd.Series(threshold, index=i)})\n",
    "    roc_t = roc.iloc[(roc.tf-0).abs().argsort()[:1]]\n",
    "\n",
    "    return list(roc_t['threshold']) \n",
    "\n",
    "threshold = Find_Optimal_Cutoff(ground_truth, pred)\n",
    "\n",
    "print(threshold)"
   ]
  },
  {
   "attachments": {},
   "cell_type": "markdown",
   "metadata": {},
   "source": [
    "### Youden's J Statistic for Threshold Determination"
   ]
  },
  {
   "cell_type": "code",
   "execution_count": 19,
   "metadata": {},
   "outputs": [],
   "source": [
    "# Yfpr = dict()\n",
    "# Ytpr = dict()\n",
    "# Ythresholds = dict()\n",
    "# Yroc_auc = dict()\n",
    "# Ypred = pred.numpy()\n",
    "\n",
    "# # Compute False Positive and True Positive Rates for each class\n",
    "# #negative\n",
    "# Yfpr[0], Ytpr[0], Ythresholds[0] = roc_curve(ground_truth, torch.sigmoid(torch.from_numpy(Ypred)), drop_intermediate=False)\n",
    "# Yroc_auc[0] = auc(Yfpr[0], Ytpr[0])"
   ]
  },
  {
   "attachments": {},
   "cell_type": "markdown",
   "metadata": {},
   "source": [
    "### Predict results to be used in the new view"
   ]
  },
  {
   "cell_type": "code",
   "execution_count": 20,
   "metadata": {},
   "outputs": [
    {
     "name": "stderr",
     "output_type": "stream",
     "text": [
      "100%|██████████| 610/610 [00:05<00:00, 103.35it/s]\n"
     ]
    }
   ],
   "source": [
    "from tqdm.auto import tqdm\n",
    "\n",
    "model = model.cpu() \n",
    "model.eval() \n",
    "\n",
    "total_class_left = len(left_original_mapping) \n",
    "total_class_right = len(right_original_mapping)\n",
    "\n",
    "threshold = 0.629451\n",
    "predictions = {}\n",
    "\n",
    "for uri_idenifier_left, left_id in tqdm(left_original_mapping.items()):\n",
    "    predictions[uri_idenifier_left] = []\n",
    "\n",
    "    left_row = torch.tensor([left_id] * total_class_right) \n",
    "    all_right_ids = torch.arange(total_class_right) \n",
    "    edge_label_index = torch.stack([left_row, all_right_ids], dim=0) \n",
    "    data[class_left, relation_name, class_right].edge_label_index = edge_label_index\n",
    "    \n",
    "    with torch.no_grad(): \n",
    "        pred = model(data)\n",
    "    # cut off by threshold\n",
    "    optimal_pred = (pred > threshold).long()\n",
    "    probabilities = torch.sigmoid(pred)\n",
    "    pred_labels = (probabilities > threshold).long()\n",
    "\n",
    "    recommended_links = all_right_ids[pred_labels == 1].tolist()\n",
    "\n",
    "    predictions[uri_idenifier_left] = recommended_links\n",
    "    #print(\"The {} with ID {} should be linked with the following {}:\\n{}\".format(class_left, uri_idenifier_left, class_right, predictions[uri_idenifier_left]), end=\"\\n\\n\")\n"
   ]
  },
  {
   "attachments": {},
   "cell_type": "markdown",
   "metadata": {},
   "source": [
    "### Save results in JSON to enable the definition of WeavingModel"
   ]
  },
  {
   "cell_type": "code",
   "execution_count": 21,
   "metadata": {},
   "outputs": [],
   "source": [
    "predicted_path = osp.join('../Views/Recommended_View/for_recommendation', \"recommendations.json\")\n",
    "\n",
    "inv_right_mapping = {v: k for k, v in right_original_mapping.items()}\n",
    "json_dict = {}\n",
    "#iterate over the predictions and create the JSON\n",
    "for uri_idenifier_left, potential_links in predictions.items():\n",
    "    json_dict[uri_idenifier_left] = [inv_right_mapping[x] for x in potential_links]\n",
    "\n",
    "with open(predicted_path, 'w+') as f:\n",
    "    json.dump(json_dict, f)\n"
   ]
  },
  {
   "cell_type": "code",
   "execution_count": null,
   "metadata": {},
   "outputs": [],
   "source": []
  }
 ],
 "metadata": {
  "kernelspec": {
   "display_name": "env3.8",
   "language": "python",
   "name": "python3"
  },
  "language_info": {
   "codemirror_mode": {
    "name": "ipython",
    "version": 3
   },
   "file_extension": ".py",
   "mimetype": "text/x-python",
   "name": "python",
   "nbconvert_exporter": "python",
   "pygments_lexer": "ipython3",
   "version": "3.11.3"
  },
  "orig_nbformat": 4
 },
 "nbformat": 4,
 "nbformat_minor": 2
}
